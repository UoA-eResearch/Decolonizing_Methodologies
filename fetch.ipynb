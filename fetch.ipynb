{
 "metadata": {
  "language_info": {
   "codemirror_mode": {
    "name": "ipython",
    "version": 3
   },
   "file_extension": ".py",
   "mimetype": "text/x-python",
   "name": "python",
   "nbconvert_exporter": "python",
   "pygments_lexer": "ipython3",
   "version": "3.6.9-final"
  },
  "orig_nbformat": 2,
  "kernelspec": {
   "name": "python36964bit29e3c49a4a324ceaaa2a919cf9d3ccc4",
   "display_name": "Python 3.6.9 64-bit"
  }
 },
 "nbformat": 4,
 "nbformat_minor": 2,
 "cells": [
  {
   "cell_type": "code",
   "execution_count": 1,
   "metadata": {},
   "outputs": [],
   "source": [
    "import pandas as pd\n",
    "import json\n",
    "import requests"
   ]
  },
  {
   "cell_type": "code",
   "execution_count": 2,
   "metadata": {
    "tags": []
   },
   "outputs": [
    {
     "output_type": "stream",
     "name": "stdout",
     "text": [
      "{'expr': 'Id=2029648951', 'entities': [{'logprob': -16.098, 'prob': 1.020298928e-07, 'Id': 2029648951, 'Ty': '0', 'Pt': '5', 'Y': 1999, 'D': '1999-01-01', 'CC': 6022, 'ECC': 20190, 'DN': 'Decolonizing Methodologies: Research and Indigenous Peoples', 'AA': [{'DAuN': 'Linda Tuhiwai Smith', 'AuId': 2509397356, 'DAfN': '', 'AfId': None}], 'F': [{'DFN': 'Indigenous education', 'FId': 2778566935}, {'DFN': 'Indigenous', 'FId': 55958113}, {'DFN': 'Traditional knowledge', 'FId': 514011633}, {'DFN': 'Colonialism', 'FId': 531593650}, {'DFN': 'Educational research', 'FId': 36727532}, {'DFN': 'Self-determination', 'FId': 96572226}, {'DFN': 'Whakapapa', 'FId': 2780738036}, {'DFN': 'Scholarship', 'FId': 2778061430}, {'DFN': 'Gender studies', 'FId': 107993555}, {'DFN': 'Political science', 'FId': 17744445}]}], 'timed_out': False}\n"
     ]
    }
   ],
   "source": [
    "def req(query):\n",
    "    r = requests.post(\"https://api.labs.cognitive.microsoft.com/academic/v1.0/evaluate\", json={\n",
    "        \"expr\": query,\n",
    "        \"model\": \"latest\",\n",
    "        \"count\": 10000,\n",
    "        \"attributes\": \"Id,Ty,DN,Y,D,CC,ECC,DOI,AA.DAuN,AA.AuId,AA.DAfN,AA.AfId,F.DFN,F.FId,J.JN,J.JId,Pt,RId\",\n",
    "    }, headers={\n",
    "        \"Ocp-Apim-Subscription-Key\": \"2e889aa457224e7c94b9517d890f29ae\",\n",
    "        \"Content-Type\": \"application/json\"\n",
    "    })\n",
    "    return r.json()\n",
    "\n",
    "seed_id = \"2029648951\"\n",
    "main = req(\"Id=\" + seed_id)\n",
    "print(main)"
   ]
  },
  {
   "cell_type": "code",
   "execution_count": 3,
   "metadata": {},
   "outputs": [
    {
     "output_type": "stream",
     "name": "stdout",
     "text": [
      "6022\nCPU times: user 482 ms, sys: 114 ms, total: 596 ms\nWall time: 24.9 s\n"
     ]
    }
   ],
   "source": [
    "%%time\n",
    "citations = req(\"RId=\" + seed_id)\n",
    "print(len(citations[\"entities\"]))"
   ]
  },
  {
   "cell_type": "code",
   "execution_count": 4,
   "metadata": {},
   "outputs": [
    {
     "output_type": "execute_result",
     "data": {
      "text/plain": [
       "{'logprob': -17.433,\n",
       " 'prob': 2.68500004e-08,\n",
       " 'Id': 2394939853,\n",
       " 'Ty': '0',\n",
       " 'Pt': '0',\n",
       " 'Y': 2005,\n",
       " 'D': '2005-01-01',\n",
       " 'CC': 1656,\n",
       " 'ECC': 2625,\n",
       " 'RId': [1658908529,\n",
       "  2028954902,\n",
       "  2029648951,\n",
       "  1547253197,\n",
       "  2892747141,\n",
       "  2910572681,\n",
       "  2105387498,\n",
       "  1984645963,\n",
       "  2135943618,\n",
       "  1631767606,\n",
       "  2085081981,\n",
       "  2072063440,\n",
       "  1982913309,\n",
       "  1751493675,\n",
       "  141196362,\n",
       "  2146691185,\n",
       "  1791470807,\n",
       "  1515587369,\n",
       "  1484158722,\n",
       "  2152534083,\n",
       "  1563955948,\n",
       "  2325866582,\n",
       "  1528985121,\n",
       "  632387178,\n",
       "  3047614709,\n",
       "  1494175060,\n",
       "  1541456364,\n",
       "  2114133419,\n",
       "  2165083513,\n",
       "  1979731710,\n",
       "  1988244460,\n",
       "  1970599162,\n",
       "  182778910,\n",
       "  2044538662,\n",
       "  2796132266,\n",
       "  1499061017,\n",
       "  1575465981,\n",
       "  2081798281,\n",
       "  2094419105,\n",
       "  2021619559,\n",
       "  2037802710,\n",
       "  1994735268,\n",
       "  2144611791,\n",
       "  2064468954,\n",
       "  2069452832,\n",
       "  1593512270,\n",
       "  2111239876,\n",
       "  2082308449,\n",
       "  1964627907,\n",
       "  2333975304,\n",
       "  643660370,\n",
       "  1966226699,\n",
       "  1976908572,\n",
       "  2996664921,\n",
       "  1506446143,\n",
       "  2334919386,\n",
       "  233143654,\n",
       "  2131421192,\n",
       "  2144519697,\n",
       "  2165529527,\n",
       "  620337800,\n",
       "  2143811122,\n",
       "  2068369526,\n",
       "  600775938,\n",
       "  1483728582,\n",
       "  2135679398,\n",
       "  2483216520,\n",
       "  1517567820,\n",
       "  1969769517,\n",
       "  1973489323,\n",
       "  2000908958,\n",
       "  2019522401,\n",
       "  2016510729,\n",
       "  3006585029,\n",
       "  2034012950,\n",
       "  1974526810,\n",
       "  2044876451,\n",
       "  2973349566,\n",
       "  2788520460,\n",
       "  1992071275,\n",
       "  2796408370,\n",
       "  2051207603,\n",
       "  1970686978,\n",
       "  2080416285,\n",
       "  2120066021,\n",
       "  2080830681,\n",
       "  1999414233,\n",
       "  2110042961,\n",
       "  2032967141,\n",
       "  2053576691,\n",
       "  2341998245,\n",
       "  2015652661,\n",
       "  363231849,\n",
       "  2034539234,\n",
       "  1964502668,\n",
       "  1555486965,\n",
       "  2035384345,\n",
       "  1522155586,\n",
       "  2001453607,\n",
       "  1929422933,\n",
       "  128574508,\n",
       "  2024095252,\n",
       "  1975393037,\n",
       "  2042609242,\n",
       "  2798324555,\n",
       "  2322102615,\n",
       "  2330238068,\n",
       "  2056445576,\n",
       "  2102178906,\n",
       "  2156361679,\n",
       "  3023079750,\n",
       "  2796967852,\n",
       "  2058257471,\n",
       "  2038343370,\n",
       "  1592355905,\n",
       "  2795397206,\n",
       "  1566488250,\n",
       "  2472595330,\n",
       "  2318022889,\n",
       "  2127539845],\n",
       " 'DN': 'The Discipline and Practice of Qualitative Research',\n",
       " 'AA': [{'DAuN': 'Norman K. Denzin',\n",
       "   'AuId': 1790936428,\n",
       "   'DAfN': '',\n",
       "   'AfId': None},\n",
       "  {'DAuN': 'Yvonna S. Lincoln', 'AuId': 1980230760, 'DAfN': '', 'AfId': None}],\n",
       " 'F': [{'DFN': 'Qualitative research', 'FId': 190248442},\n",
       "  {'DFN': 'Engineering ethics', 'FId': 55587333},\n",
       "  {'DFN': 'Sociology', 'FId': 144024400},\n",
       "  {'DFN': 'Pedagogy', 'FId': 19417346}]}"
      ]
     },
     "metadata": {},
     "execution_count": 4
    }
   ],
   "source": [
    "citations[\"entities\"][0]"
   ]
  },
  {
   "cell_type": "code",
   "execution_count": 11,
   "metadata": {},
   "outputs": [
    {
     "output_type": "display_data",
     "data": {
      "text/plain": "              id date_published  citation_count  estimated_citation_count  \\\n0     2029648951     1999-01-01            6022                     20190   \n1     2394939853     2005-01-01            1656                      2625   \n2     2116846707     2009-10-06             434                      1181   \n3     2134823012     2008-03-18             571                       887   \n4     2114497837     2009-12-01             464                      1206   \n...          ...            ...             ...                       ...   \n6018  2184318719     2000-01-01               0                         0   \n6019  2182562763     2000-01-01               0                         0   \n6020    93535777     2001-02-01               0                         0   \n6021  2336280669     2003-01-01               0                         0   \n6022  1820580451     2008-10-31               0                         0   \n\n                                                  title  \\\n0     Decolonizing Methodologies: Research and Indig...   \n1     The Discipline and Practice of Qualitative Res...   \n2            Suspending Damage: A Letter to Communities   \n3     The Value and Challenges of Participatory Rese...   \n4     Epistemic Disobedience, Independent Thought an...   \n...                                                 ...   \n6018  Colleges; Cultural ,Activities; *Cultural Educ...   \n6019  Colonialism; *Cultural Maintenance; *Empowerme...   \n6020  Priming for Ethnographic Fieldwork: A Selected...   \n6021  THE COLONIZER/COLONIZED DICHOTOMY: Is That All...   \n6022  PATRIMÔNIO, PÓS-COLONIALISMO E REPATRIAÇÃO ARQ...   \n\n                                                authors  \\\n0     [{'DAuN': 'Linda Tuhiwai Smith', 'AuId': 25093...   \n1     [{'DAuN': 'Norman K. Denzin', 'AuId': 17909364...   \n2     [{'DAuN': 'Eve Tuck', 'AuId': 2165230311, 'DAf...   \n3     [{'DAuN': 'Margaret Cargo', 'AuId': 1915065829...   \n4     [{'DAuN': 'Walter D. Mignolo', 'AuId': 1580450...   \n...                                                 ...   \n6018  [{'DAuN': 'B. MOase Invitational', 'AuId': 218...   \n6019  [{'DAuN': 'Dawn Martin', 'AuId': 2188171195, '...   \n6020  [{'DAuN': 'J. Marshall Beier', 'AuId': 2684148...   \n6021  [{'DAuN': 'Isabel Dyck', 'AuId': 2337996233, '...   \n6022  [{'DAuN': 'Lúcio Menezes Ferreira', 'AuId': 22...   \n\n                                                 fields  \n0     [{'DFN': 'Indigenous education', 'FId': 277856...  \n1     [{'DFN': 'Qualitative research', 'FId': 190248...  \n2     [{'DFN': 'Oppression', 'FId': 2776526686}, {'D...  \n3     [{'DFN': 'Action research', 'FId': 53173841}, ...  \n4     [{'DFN': 'First World', 'FId': 2778355732}, {'...  \n...                                                 ...  \n6018  [{'DFN': 'Comparative education', 'FId': 13481...  \n6019  [{'DFN': 'Intellectual history', 'FId': 114799...  \n6020  [{'DFN': 'Feminism', 'FId': 2777688943}, {'DFN...  \n6021  [{'DFN': 'History', 'FId': 95457728}, {'DFN': ...  \n6022                                               None  \n\n[6023 rows x 7 columns]",
      "text/html": "<div>\n<style scoped>\n    .dataframe tbody tr th:only-of-type {\n        vertical-align: middle;\n    }\n\n    .dataframe tbody tr th {\n        vertical-align: top;\n    }\n\n    .dataframe thead th {\n        text-align: right;\n    }\n</style>\n<table border=\"1\" class=\"dataframe\">\n  <thead>\n    <tr style=\"text-align: right;\">\n      <th></th>\n      <th>id</th>\n      <th>date_published</th>\n      <th>citation_count</th>\n      <th>estimated_citation_count</th>\n      <th>title</th>\n      <th>authors</th>\n      <th>fields</th>\n    </tr>\n  </thead>\n  <tbody>\n    <tr>\n      <th>0</th>\n      <td>2029648951</td>\n      <td>1999-01-01</td>\n      <td>6022</td>\n      <td>20190</td>\n      <td>Decolonizing Methodologies: Research and Indig...</td>\n      <td>[{'DAuN': 'Linda Tuhiwai Smith', 'AuId': 25093...</td>\n      <td>[{'DFN': 'Indigenous education', 'FId': 277856...</td>\n    </tr>\n    <tr>\n      <th>1</th>\n      <td>2394939853</td>\n      <td>2005-01-01</td>\n      <td>1656</td>\n      <td>2625</td>\n      <td>The Discipline and Practice of Qualitative Res...</td>\n      <td>[{'DAuN': 'Norman K. Denzin', 'AuId': 17909364...</td>\n      <td>[{'DFN': 'Qualitative research', 'FId': 190248...</td>\n    </tr>\n    <tr>\n      <th>2</th>\n      <td>2116846707</td>\n      <td>2009-10-06</td>\n      <td>434</td>\n      <td>1181</td>\n      <td>Suspending Damage: A Letter to Communities</td>\n      <td>[{'DAuN': 'Eve Tuck', 'AuId': 2165230311, 'DAf...</td>\n      <td>[{'DFN': 'Oppression', 'FId': 2776526686}, {'D...</td>\n    </tr>\n    <tr>\n      <th>3</th>\n      <td>2134823012</td>\n      <td>2008-03-18</td>\n      <td>571</td>\n      <td>887</td>\n      <td>The Value and Challenges of Participatory Rese...</td>\n      <td>[{'DAuN': 'Margaret Cargo', 'AuId': 1915065829...</td>\n      <td>[{'DFN': 'Action research', 'FId': 53173841}, ...</td>\n    </tr>\n    <tr>\n      <th>4</th>\n      <td>2114497837</td>\n      <td>2009-12-01</td>\n      <td>464</td>\n      <td>1206</td>\n      <td>Epistemic Disobedience, Independent Thought an...</td>\n      <td>[{'DAuN': 'Walter D. Mignolo', 'AuId': 1580450...</td>\n      <td>[{'DFN': 'First World', 'FId': 2778355732}, {'...</td>\n    </tr>\n    <tr>\n      <th>...</th>\n      <td>...</td>\n      <td>...</td>\n      <td>...</td>\n      <td>...</td>\n      <td>...</td>\n      <td>...</td>\n      <td>...</td>\n    </tr>\n    <tr>\n      <th>6018</th>\n      <td>2184318719</td>\n      <td>2000-01-01</td>\n      <td>0</td>\n      <td>0</td>\n      <td>Colleges; Cultural ,Activities; *Cultural Educ...</td>\n      <td>[{'DAuN': 'B. MOase Invitational', 'AuId': 218...</td>\n      <td>[{'DFN': 'Comparative education', 'FId': 13481...</td>\n    </tr>\n    <tr>\n      <th>6019</th>\n      <td>2182562763</td>\n      <td>2000-01-01</td>\n      <td>0</td>\n      <td>0</td>\n      <td>Colonialism; *Cultural Maintenance; *Empowerme...</td>\n      <td>[{'DAuN': 'Dawn Martin', 'AuId': 2188171195, '...</td>\n      <td>[{'DFN': 'Intellectual history', 'FId': 114799...</td>\n    </tr>\n    <tr>\n      <th>6020</th>\n      <td>93535777</td>\n      <td>2001-02-01</td>\n      <td>0</td>\n      <td>0</td>\n      <td>Priming for Ethnographic Fieldwork: A Selected...</td>\n      <td>[{'DAuN': 'J. Marshall Beier', 'AuId': 2684148...</td>\n      <td>[{'DFN': 'Feminism', 'FId': 2777688943}, {'DFN...</td>\n    </tr>\n    <tr>\n      <th>6021</th>\n      <td>2336280669</td>\n      <td>2003-01-01</td>\n      <td>0</td>\n      <td>0</td>\n      <td>THE COLONIZER/COLONIZED DICHOTOMY: Is That All...</td>\n      <td>[{'DAuN': 'Isabel Dyck', 'AuId': 2337996233, '...</td>\n      <td>[{'DFN': 'History', 'FId': 95457728}, {'DFN': ...</td>\n    </tr>\n    <tr>\n      <th>6022</th>\n      <td>1820580451</td>\n      <td>2008-10-31</td>\n      <td>0</td>\n      <td>0</td>\n      <td>PATRIMÔNIO, PÓS-COLONIALISMO E REPATRIAÇÃO ARQ...</td>\n      <td>[{'DAuN': 'Lúcio Menezes Ferreira', 'AuId': 22...</td>\n      <td>None</td>\n    </tr>\n  </tbody>\n</table>\n<p>6023 rows × 7 columns</p>\n</div>"
     },
     "metadata": {}
    }
   ],
   "source": [
    "nodes = []\n",
    "all_entities = main[\"entities\"] + citations[\"entities\"]\n",
    "for e in all_entities:\n",
    "    nodes.append({\"id\": e[\"Id\"], \"date_published\": e[\"D\"], \"citation_count\": e[\"CC\"], \"estimated_citation_count\": e[\"ECC\"], \"title\": e[\"DN\"], \"authors\": e[\"AA\"], \"fields\": e.get(\"F\")})\n",
    "nodes = pd.DataFrame(nodes)\n",
    "display(nodes)\n"
   ]
  },
  {
   "cell_type": "code",
   "execution_count": 12,
   "metadata": {},
   "outputs": [
    {
     "output_type": "display_data",
     "data": {
      "text/plain": "             from          to\n0      2394939853  2029648951\n1      2116846707  2029648951\n2      2116846707  2071275339\n3      2134823012  2029648951\n4      2134823012  2056309457\n...           ...         ...\n13257  2184318719  2029648951\n13258  2182562763  2029648951\n13259    93535777  2029648951\n13260  2336280669  2029648951\n13261  1820580451  2029648951\n\n[13262 rows x 2 columns]",
      "text/html": "<div>\n<style scoped>\n    .dataframe tbody tr th:only-of-type {\n        vertical-align: middle;\n    }\n\n    .dataframe tbody tr th {\n        vertical-align: top;\n    }\n\n    .dataframe thead th {\n        text-align: right;\n    }\n</style>\n<table border=\"1\" class=\"dataframe\">\n  <thead>\n    <tr style=\"text-align: right;\">\n      <th></th>\n      <th>from</th>\n      <th>to</th>\n    </tr>\n  </thead>\n  <tbody>\n    <tr>\n      <th>0</th>\n      <td>2394939853</td>\n      <td>2029648951</td>\n    </tr>\n    <tr>\n      <th>1</th>\n      <td>2116846707</td>\n      <td>2029648951</td>\n    </tr>\n    <tr>\n      <th>2</th>\n      <td>2116846707</td>\n      <td>2071275339</td>\n    </tr>\n    <tr>\n      <th>3</th>\n      <td>2134823012</td>\n      <td>2029648951</td>\n    </tr>\n    <tr>\n      <th>4</th>\n      <td>2134823012</td>\n      <td>2056309457</td>\n    </tr>\n    <tr>\n      <th>...</th>\n      <td>...</td>\n      <td>...</td>\n    </tr>\n    <tr>\n      <th>13257</th>\n      <td>2184318719</td>\n      <td>2029648951</td>\n    </tr>\n    <tr>\n      <th>13258</th>\n      <td>2182562763</td>\n      <td>2029648951</td>\n    </tr>\n    <tr>\n      <th>13259</th>\n      <td>93535777</td>\n      <td>2029648951</td>\n    </tr>\n    <tr>\n      <th>13260</th>\n      <td>2336280669</td>\n      <td>2029648951</td>\n    </tr>\n    <tr>\n      <th>13261</th>\n      <td>1820580451</td>\n      <td>2029648951</td>\n    </tr>\n  </tbody>\n</table>\n<p>13262 rows × 2 columns</p>\n</div>"
     },
     "metadata": {}
    },
    {
     "output_type": "stream",
     "name": "stdout",
     "text": [
      "82208075      24\n2954311855    16\n2218111986    15\n2803847472    15\n193511716     15\n              ..\n2561571731     1\n1812880271     1\n2479811248     1\n636494587      1\n1852104708     1\nName: from, Length: 6022, dtype: int64\n2029648951    6022\n2149786920     104\n1981410738     100\n2002351793      88\n2016144836      84\n              ... \n2117119543       1\n1507206710       1\n2167113258       1\n2012806386       1\n2883145718       1\nName: to, Length: 1900, dtype: int64\n"
     ]
    }
   ],
   "source": [
    "known_ids = set(nodes.id)\n",
    "edges = []\n",
    "for e in all_entities:\n",
    "    for r in e.get(\"RId\", []):\n",
    "        if r in known_ids:\n",
    "            edges.append({\"from\": e[\"Id\"], \"to\": r})\n",
    "edges = pd.DataFrame(edges)\n",
    "display(edges)\n",
    "print(edges[\"from\"].value_counts())\n",
    "print(edges[\"to\"].value_counts())"
   ]
  },
  {
   "cell_type": "code",
   "execution_count": 13,
   "metadata": {},
   "outputs": [
    {
     "output_type": "stream",
     "name": "stdout",
     "text": [
      "-rw-rw-r-- 1 nyou045 nyou045 283K Nov 25 14:46 edges.csv\n-rw-rw-r-- 1 nyou045 nyou045 4.0M Nov 25 14:46 nodes.csv\n"
     ]
    }
   ],
   "source": [
    "nodes.to_csv(\"nodes.csv\", index=False)\n",
    "edges.to_csv(\"edges.csv\", index=False)\n",
    "!ls -lah *.csv"
   ]
  }
 ]
}